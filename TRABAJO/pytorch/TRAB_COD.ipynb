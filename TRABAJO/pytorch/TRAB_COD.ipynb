{
  "nbformat": 4,
  "nbformat_minor": 0,
  "metadata": {
    "colab": {
      "name": "NANI?.ipynb",
      "provenance": []
    },
    "kernelspec": {
      "name": "python3",
      "display_name": "Python 3"
    },
    "accelerator": "GPU"
  },
  "cells": [
    {
      "cell_type": "code",
      "metadata": {
        "id": "3x3QCYhObWzG",
        "colab_type": "code",
        "colab": {}
      },
      "source": [
        "!pip3 install http://download.pytorch.org/whl/cu80/torch-0.3.0.post4-cp36-cp36m-linux_x86_64.whl"
      ],
      "execution_count": 0,
      "outputs": []
    },
    {
      "cell_type": "code",
      "metadata": {
        "id": "SAj_waQye-os",
        "colab_type": "code",
        "colab": {}
      },
      "source": [
        "!pip3 install torchvision"
      ],
      "execution_count": 0,
      "outputs": []
    },
    {
      "cell_type": "code",
      "metadata": {
        "id": "4QFoLn-We-21",
        "colab_type": "code",
        "colab": {}
      },
      "source": [
        "!pip3 install Pillow"
      ],
      "execution_count": 0,
      "outputs": []
    },
    {
      "cell_type": "code",
      "metadata": {
        "id": "Fug0kyVBd6Dh",
        "colab_type": "code",
        "outputId": "0d539eb6-e387-40cd-ad03-fa933db1b412",
        "colab": {
          "base_uri": "https://localhost:8080/",
          "height": 35
        }
      },
      "source": [
        "from google.colab import drive\n",
        "drive.mount('/content/drive')"
      ],
      "execution_count": 0,
      "outputs": [
        {
          "output_type": "stream",
          "text": [
            "Drive already mounted at /content/drive; to attempt to forcibly remount, call drive.mount(\"/content/drive\", force_remount=True).\n"
          ],
          "name": "stdout"
        }
      ]
    },
    {
      "cell_type": "code",
      "metadata": {
        "id": "SFQzcRp9eFKx",
        "colab_type": "code",
        "outputId": "6fe3e6ad-e1ad-463f-c6dd-a00b2b88c1b8",
        "colab": {
          "base_uri": "https://localhost:8080/",
          "height": 53
        }
      },
      "source": [
        "import torch\n",
        "from torch.autograd import Variable\n",
        "import utilss as utils\n",
        "import dataset \n",
        "from PIL import Image\n",
        "\n",
        "import crnn as crnn\n",
        "\n",
        "#'drive/My Drive/Colab Notebooks/TRABAJO/pytorch/'\n",
        "model_path = 'drive/My Drive/Colab Notebooks/TRABAJO/pytorch/data/crnn.pth'\n",
        "img_path = 'drive/My Drive/Colab Notebooks/TRABAJO/pytorch/data/demo5.PNG'\n",
        "alphabet = '0123456789abcdefghijklmnopqrstuvwxyz'\n",
        "\n",
        "model = crnn.CRNN(32, 1, 37, 256)\n",
        "if torch.cuda.is_available():\n",
        "    model = model.cuda()\n",
        "print('loading pretrained model from %s' % model_path)\n",
        "model.load_state_dict(torch.load(model_path))\n",
        "\n",
        "converter = utils.strLabelConverter(alphabet)\n",
        "\n",
        "transformer = dataset.resizeNormalize((100, 32))\n",
        "image = Image.open(img_path).convert('L')\n",
        "image = transformer(image)\n",
        "if torch.cuda.is_available():\n",
        "    image = image.cuda()\n",
        "image = image.view(1, *image.size())\n",
        "image = Variable(image)\n",
        "\n",
        "model.eval()\n",
        "preds = model(image)\n",
        "\n",
        "_, preds = preds.max(2)\n",
        "preds = preds.transpose(1, 0).contiguous().view(-1)\n",
        "\n",
        "preds_size = Variable(torch.IntTensor([preds.size(0)]))\n",
        "raw_pred = converter.decode(preds.data, preds_size.data, raw=True)\n",
        "sim_pred = converter.decode(preds.data, preds_size.data, raw=False)\n",
        "print('%-20s => %-20s' % (raw_pred, sim_pred))\n"
      ],
      "execution_count": 0,
      "outputs": [
        {
          "output_type": "stream",
          "text": [
            "loading pretrained model from drive/My Drive/Colab Notebooks/TRABAJO/pytorch/data/crnn.pth\n",
            "c-----z-------5-----s----- => cz5s                \n"
          ],
          "name": "stdout"
        }
      ]
    }
  ]
}
